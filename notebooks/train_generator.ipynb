{
 "cells": [
  {
   "cell_type": "code",
   "execution_count": 1,
   "metadata": {},
   "outputs": [
    {
     "name": "stdout",
     "output_type": "stream",
     "text": [
      "/home/elias/work/generative-scattering-networks\n"
     ]
    }
   ],
   "source": [
    "%cd ..\n",
    "%matplotlib nbagg"
   ]
  },
  {
   "cell_type": "code",
   "execution_count": 2,
   "metadata": {},
   "outputs": [],
   "source": [
    "from utils import create_name_experiment\n",
    "from GSN import GSN"
   ]
  },
  {
   "cell_type": "code",
   "execution_count": 3,
   "metadata": {},
   "outputs": [
    {
     "name": "stdout",
     "output_type": "stream",
     "text": [
      "Name experiment: celeba_hq_1024_rgb_SJ4_PCA_200_ncfl64_dsencoder\n"
     ]
    }
   ],
   "source": [
    "parameters = dict()\n",
    "parameters['image_size'] = 128\n",
    "\n",
    "parameters['dataset'] = 'celeba_hq'\n",
    "parameters['dataset_attribute'] = '1024_rgb'\n",
    "parameters['dim'] = 200\n",
    "parameters['embedding_attribute'] = 'SJ4_PCA_{}'.format(parameters['dim'])\n",
    "\n",
    "parameters['nb_channels_first_layer'] = 64\n",
    "parameters['size_first_layer'] = 4\n",
    "parameters['num_channel'] = 3\n",
    "parameters['linear_bias'] = True\n",
    "parameters['conv_kernel'] = 5\n",
    "\n",
    "parameters['num_workers'] = 7\n",
    "parameters['batch_size'] = 30\n",
    "\n",
    "parameters['name_experiment'] = create_name_experiment(parameters, 'dsencoder')"
   ]
  },
  {
   "cell_type": "code",
   "execution_count": null,
   "metadata": {},
   "outputs": [],
   "source": [
    "gsn = GSN(parameters)"
   ]
  },
  {
   "cell_type": "code",
   "execution_count": null,
   "metadata": {},
   "outputs": [],
   "source": [
    "EPOCH = 0"
   ]
  },
  {
   "cell_type": "code",
   "execution_count": null,
   "metadata": {},
   "outputs": [],
   "source": [
    "gsn.train(EPOCH)"
   ]
  },
  {
   "cell_type": "code",
   "execution_count": null,
   "metadata": {},
   "outputs": [],
   "source": [
    "gsn.save_originals()"
   ]
  },
  {
   "cell_type": "code",
   "execution_count": null,
   "metadata": {},
   "outputs": [],
   "source": [
    "gsn.generate_from_model(EPOCH)"
   ]
  },
  {
   "cell_type": "code",
   "execution_count": null,
   "metadata": {},
   "outputs": [],
   "source": [
    "# gsn.compute_errors(EPOCH)"
   ]
  },
  {
   "cell_type": "code",
   "execution_count": null,
   "metadata": {},
   "outputs": [],
   "source": [
    "gsn.analyze_model(EPOCH)"
   ]
  },
  {
   "cell_type": "code",
   "execution_count": null,
   "metadata": {},
   "outputs": [],
   "source": [
    "gsn.conditional_generation(EPOCH, idx_image=76, z_initial_idx=0, z_end_idx=160)"
   ]
  }
 ],
 "metadata": {
  "kernelspec": {
   "display_name": "Python 3",
   "language": "python",
   "name": "python3"
  },
  "language_info": {
   "codemirror_mode": {
    "name": "ipython",
    "version": 3
   },
   "file_extension": ".py",
   "mimetype": "text/x-python",
   "name": "python",
   "nbconvert_exporter": "python",
   "pygments_lexer": "ipython3",
   "version": "3.6.9"
  }
 },
 "nbformat": 4,
 "nbformat_minor": 2
}
