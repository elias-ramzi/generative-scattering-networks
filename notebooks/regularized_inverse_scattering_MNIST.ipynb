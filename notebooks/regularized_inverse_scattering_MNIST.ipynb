{
 "cells": [
  {
   "cell_type": "code",
   "execution_count": 1,
   "metadata": {},
   "outputs": [
    {
     "name": "stdout",
     "output_type": "stream",
     "text": [
      "/home/elias/work/generative-scattering-networks\n"
     ]
    }
   ],
   "source": [
    "%cd ..\n",
    "%matplotlib inline"
   ]
  },
  {
   "cell_type": "markdown",
   "metadata": {},
   "source": [
    "\n",
    "Regularized inverse of a scattering transform on MNIST\n",
    "======================================================\n",
    "\n",
    "Description:\n",
    "This example trains a convolutional network to invert the scattering transform at scale 2 of MNIST digits.\n",
    "After only two epochs, it produces a network that transforms a linear interpolation in the scattering space into a\n",
    "nonlinear interpolation in the image space.\n",
    "\n",
    "Remarks:\n",
    "The model after two epochs and the path (which consists of a sequence of images) are stored in the cache directory.\n",
    "The two epochs take roughly 5 minutes in a Quadro M6000.\n",
    "\n",
    "Reference:\n",
    "https://arxiv.org/abs/1805.06621\n",
    "\n"
   ]
  },
  {
   "cell_type": "code",
   "execution_count": 2,
   "metadata": {},
   "outputs": [],
   "source": [
    "import os\n",
    "\n",
    "import matplotlib.pyplot as plt\n",
    "import numpy as np\n",
    "import torch\n",
    "import torch.nn as nn\n",
    "import torch.optim as optim\n",
    "from PIL import Image\n",
    "from torch.autograd import Variable\n",
    "from torch.utils.data import DataLoader\n",
    "from torchvision import datasets, transforms\n",
    "from tqdm import tqdm\n",
    "\n",
    "from kymatio import Scattering2D as Scattering\n",
    "from kymatio.caching import get_cache_dir\n",
    "from kymatio.datasets import get_dataset_dir"
   ]
  },
  {
   "cell_type": "code",
   "execution_count": 3,
   "metadata": {},
   "outputs": [],
   "source": [
    "class Generator(nn.Module):\n",
    "    def __init__(self, num_input_channels, num_hidden_channels, num_output_channels=1, filter_size=3):\n",
    "        super(Generator, self).__init__()\n",
    "        self.num_input_channels = num_input_channels\n",
    "        self.num_hidden_channels = num_hidden_channels\n",
    "        self.num_output_channels = num_output_channels\n",
    "        self.filter_size = filter_size\n",
    "        self.build()\n",
    "\n",
    "    def build(self):\n",
    "        padding = (self.filter_size - 1) // 2\n",
    "\n",
    "        self.main = nn.Sequential(\n",
    "            nn.ReflectionPad2d(padding),\n",
    "            nn.Conv2d(self.num_input_channels, self.num_hidden_channels, self.filter_size, bias=False),\n",
    "            nn.BatchNorm2d(self.num_hidden_channels, eps=0.001, momentum=0.9),\n",
    "            nn.ReLU(inplace=True),\n",
    "            nn.Upsample(scale_factor=2, mode='bilinear', align_corners=False),\n",
    "\n",
    "            nn.ReflectionPad2d(padding),\n",
    "            nn.Conv2d(self.num_hidden_channels, self.num_hidden_channels, self.filter_size, bias=False),\n",
    "            nn.BatchNorm2d(self.num_hidden_channels, eps=0.001, momentum=0.9),\n",
    "            nn.ReLU(inplace=True),\n",
    "            nn.Upsample(scale_factor=2, mode='bilinear', align_corners=False),\n",
    "\n",
    "            nn.ReflectionPad2d(padding),\n",
    "            nn.Conv2d(self.num_hidden_channels, self.num_output_channels, self.filter_size, bias=False),\n",
    "            nn.BatchNorm2d(self.num_output_channels, eps=0.001, momentum=0.9),\n",
    "            nn.Tanh()\n",
    "        )\n",
    "\n",
    "    def forward(self, input_tensor):\n",
    "        return self.main(input_tensor)"
   ]
  },
  {
   "cell_type": "code",
   "execution_count": 8,
   "metadata": {},
   "outputs": [],
   "source": [
    "def main(num_epochs=2, load_model=False, dir_save_images=\"tmp/interpolation_images\"):\n",
    "    dir_to_save = get_cache_dir('reg_inverse_example')\n",
    "\n",
    "    transforms_to_apply = transforms.Compose([\n",
    "        transforms.ToTensor(),\n",
    "        transforms.Normalize((0.5,), (0.5,))  # Pixel values should be in [-1,1]\n",
    "    ])\n",
    "\n",
    "    mnist_dir = get_dataset_dir(\"MNIST\", create=True)\n",
    "    dataset = datasets.MNIST(mnist_dir, train=True, download=True, transform=transforms_to_apply)\n",
    "    dataloader = DataLoader(dataset, batch_size=128, shuffle=True, pin_memory=True)\n",
    "\n",
    "    fixed_dataloader = DataLoader(dataset, batch_size=2, shuffle=True)\n",
    "    fixed_batch = next(iter(fixed_dataloader))\n",
    "    fixed_batch = fixed_batch[0].float()  # .cuda()\n",
    "\n",
    "    scattering = Scattering(J=2, shape=(28, 28))\n",
    "#     scattering.cuda()\n",
    "\n",
    "    scattering_fixed_batch = scattering(fixed_batch).squeeze(1)\n",
    "    num_input_channels = scattering_fixed_batch.shape[1]\n",
    "    num_hidden_channels = num_input_channels\n",
    "\n",
    "    generator = Generator(num_input_channels, num_hidden_channels)\n",
    "#     generator.cuda()\n",
    "    generator.train()\n",
    "\n",
    "    # Either train the network or load a trained model\n",
    "    ##################################################\n",
    "    if load_model:\n",
    "        filename_model = os.path.join(dir_to_save, 'model.pth')\n",
    "        generator.load_state_dict(torch.load(filename_model))\n",
    "    else:\n",
    "        criterion = torch.nn.L1Loss()\n",
    "        optimizer = optim.Adam(generator.parameters())\n",
    "\n",
    "        for idx_epoch in range(num_epochs):\n",
    "            print('Training epoch {}'.format(idx_epoch))\n",
    "            for _, current_batch in enumerate(tqdm(dataloader)):\n",
    "                generator.zero_grad()\n",
    "                batch_images = Variable(current_batch[0]).float()  # .cuda()\n",
    "                batch_scattering = scattering(batch_images).squeeze(1)\n",
    "                batch_inverse_scattering = generator(batch_scattering)\n",
    "                loss = criterion(batch_inverse_scattering, batch_images)\n",
    "                loss.backward()\n",
    "                optimizer.step()\n",
    "\n",
    "        print('Saving results in {}'.format(dir_to_save))\n",
    "\n",
    "        torch.save(generator.state_dict(), os.path.join(dir_to_save, 'model.pth'))\n",
    "\n",
    "    generator.eval()\n",
    "\n",
    "    # We create the batch containing the linear interpolation points in the scattering space\n",
    "    ########################################################################################\n",
    "    z0 = scattering_fixed_batch.cpu().numpy()[[0]]\n",
    "    z1 = scattering_fixed_batch.cpu().numpy()[[1]]\n",
    "    batch_z = np.copy(z0)\n",
    "    num_samples = 32\n",
    "    interval = np.linspace(0, 1, num_samples)\n",
    "    for t in interval:\n",
    "        if t > 0:\n",
    "            zt = (1 - t) * z0 + t * z1\n",
    "            batch_z = np.vstack((batch_z, zt))\n",
    "\n",
    "    z = torch.from_numpy(batch_z).float()  # .cuda()\n",
    "    path = generator(z).data.cpu().numpy().squeeze(1)\n",
    "    path = (path + 1) / 2  # The pixels are now in [0, 1]\n",
    "\n",
    "    # We show and store the nonlinear interpolation in the image space\n",
    "    ##################################################################\n",
    "    dir_path = os.path.join(dir_to_save, dir_save_images)\n",
    "\n",
    "    if not os.path.exists(dir_path):\n",
    "        os.makedirs(dir_path)\n",
    "\n",
    "    for idx_image in range(num_samples):\n",
    "        current_image = np.uint8(path[idx_image] * 255.0)\n",
    "        filename = os.path.join(dir_path, '{}.png'.format(idx_image))\n",
    "        Image.fromarray(current_image).save(filename)\n",
    "        plt.imshow(current_image, cmap='gray')\n",
    "        plt.axis('off')\n",
    "        plt.pause(0.1)\n",
    "        plt.draw()"
   ]
  },
  {
   "cell_type": "code",
   "execution_count": 9,
   "metadata": {
    "scrolled": false
   },
   "outputs": [
    {
     "name": "stderr",
     "output_type": "stream",
     "text": [
      "\r",
      "  0%|          | 0/469 [00:00<?, ?it/s]"
     ]
    },
    {
     "name": "stdout",
     "output_type": "stream",
     "text": [
      "Training epoch 0\n"
     ]
    },
    {
     "name": "stderr",
     "output_type": "stream",
     "text": [
      "100%|██████████| 469/469 [09:50<00:00,  1.26s/it]\n",
      "  0%|          | 0/469 [00:00<?, ?it/s]"
     ]
    },
    {
     "name": "stdout",
     "output_type": "stream",
     "text": [
      "Training epoch 1\n"
     ]
    },
    {
     "name": "stderr",
     "output_type": "stream",
     "text": [
      "100%|██████████| 469/469 [09:49<00:00,  1.26s/it]"
     ]
    },
    {
     "name": "stdout",
     "output_type": "stream",
     "text": [
      "Saving results in /home/elias/kymatio_cache/reg_inverse_example\n"
     ]
    },
    {
     "name": "stderr",
     "output_type": "stream",
     "text": [
      "\n"
     ]
    },
    {
     "data": {
      "image/png": "[encoded data removed]",
      "text/plain": [
       "<Figure size 432x288 with 1 Axes>"
      ]
     },
     "metadata": {
      "needs_background": "light"
     },
     "output_type": "display_data"
    },
    {
     "data": {
      "image/png": "[encoded data removed]",
      "text/plain": [
       "<Figure size 432x288 with 1 Axes>"
      ]
     },
     "metadata": {
      "needs_background": "light"
     },
     "output_type": "display_data"
    },
    {
     "data": {
      "image/png": "[encoded data removed]",
      "text/plain": [
       "<Figure size 432x288 with 1 Axes>"
      ]
     },
     "metadata": {
      "needs_background": "light"
     },
     "output_type": "display_data"
    },
    {
     "data": {
      "image/png": "[encoded data removed]",
      "text/plain": [
       "<Figure size 432x288 with 1 Axes>"
      ]
     },
     "metadata": {
      "needs_background": "light"
     },
     "output_type": "display_data"
    },
    {
     "data": {
      "image/png": "[encoded data removed]",
      "text/plain": [
       "<Figure size 432x288 with 1 Axes>"
      ]
     },
     "metadata": {
      "needs_background": "light"
     },
     "output_type": "display_data"
    },
    {
     "data": {
      "image/png": "[encoded data removed]",
      "text/plain": [
       "<Figure size 432x288 with 1 Axes>"
      ]
     },
     "metadata": {
      "needs_background": "light"
     },
     "output_type": "display_data"
    },
    {
     "data": {
      "image/png": "[encoded data removed]",
      "text/plain": [
       "<Figure size 432x288 with 1 Axes>"
      ]
     },
     "metadata": {
      "needs_background": "light"
     },
     "output_type": "display_data"
    },
    {
     "data": {
      "image/png": "[encoded data removed]",
      "text/plain": [
       "<Figure size 432x288 with 1 Axes>"
      ]
     },
     "metadata": {
      "needs_background": "light"
     },
     "output_type": "display_data"
    },
    {
     "data": {
      "image/png": "[encoded data removed]",
      "text/plain": [
       "<Figure size 432x288 with 1 Axes>"
      ]
     },
     "metadata": {
      "needs_background": "light"
     },
     "output_type": "display_data"
    },
    {
     "data": {
      "image/png": "[encoded data removed]",
      "text/plain": [
       "<Figure size 432x288 with 1 Axes>"
      ]
     },
     "metadata": {
      "needs_background": "light"
     },
     "output_type": "display_data"
    },
    {
     "data": {
      "image/png": "[encoded data removed]",
      "text/plain": [
       "<Figure size 432x288 with 1 Axes>"
      ]
     },
     "metadata": {
      "needs_background": "light"
     },
     "output_type": "display_data"
    },
    {
     "data": {
      "image/png": "[encoded data removed]",
      "text/plain": [
       "<Figure size 432x288 with 1 Axes>"
      ]
     },
     "metadata": {
      "needs_background": "light"
     },
     "output_type": "display_data"
    },
    {
     "data": {
      "image/png": "[encoded data removed]",
      "text/plain": [
       "<Figure size 432x288 with 1 Axes>"
      ]
     },
     "metadata": {
      "needs_background": "light"
     },
     "output_type": "display_data"
    },
    {
     "data": {
      "image/png": "[encoded data removed]",
      "text/plain": [
       "<Figure size 432x288 with 1 Axes>"
      ]
     },
     "metadata": {
      "needs_background": "light"
     },
     "output_type": "display_data"
    },
    {
     "data": {
      "image/png": "[encoded data removed]",
      "text/plain": [
       "<Figure size 432x288 with 1 Axes>"
      ]
     },
     "metadata": {
      "needs_background": "light"
     },
     "output_type": "display_data"
    },
    {
     "data": {
      "image/png": "[encoded data removed]",
      "text/plain": [
       "<Figure size 432x288 with 1 Axes>"
      ]
     },
     "metadata": {
      "needs_background": "light"
     },
     "output_type": "display_data"
    },
    {
     "data": {
      "image/png": "[encoded data removed]",
      "text/plain": [
       "<Figure size 432x288 with 1 Axes>"
      ]
     },
     "metadata": {
      "needs_background": "light"
     },
     "output_type": "display_data"
    },
    {
     "data": {
      "image/png": "[encoded data removed]",
      "text/plain": [
       "<Figure size 432x288 with 1 Axes>"
      ]
     },
     "metadata": {
      "needs_background": "light"
     },
     "output_type": "display_data"
    },
    {
     "data": {
      "image/png": "[encoded data removed]",
      "text/plain": [
       "<Figure size 432x288 with 1 Axes>"
      ]
     },
     "metadata": {
      "needs_background": "light"
     },
     "output_type": "display_data"
    },
    {
     "data": {
      "image/png": "[encoded data removed]",
      "text/plain": [
       "<Figure size 432x288 with 1 Axes>"
      ]
     },
     "metadata": {
      "needs_background": "light"
     },
     "output_type": "display_data"
    },
    {
     "data": {
      "image/png": "[encoded data removed]",
      "text/plain": [
       "<Figure size 432x288 with 1 Axes>"
      ]
     },
     "metadata": {
      "needs_background": "light"
     },
     "output_type": "display_data"
    },
    {
     "data": {
      "image/png": "[encoded data removed]",
      "text/plain": [
       "<Figure size 432x288 with 1 Axes>"
      ]
     },
     "metadata": {
      "needs_background": "light"
     },
     "output_type": "display_data"
    },
    {
     "data": {
      "image/png": "[encoded data removed]",
      "text/plain": [
       "<Figure size 432x288 with 1 Axes>"
      ]
     },
     "metadata": {
      "needs_background": "light"
     },
     "output_type": "display_data"
    },
    {
     "data": {
      "image/png": "[encoded data removed]",
      "text/plain": [
       "<Figure size 432x288 with 1 Axes>"
      ]
     },
     "metadata": {
      "needs_background": "light"
     },
     "output_type": "display_data"
    },
    {
     "data": {
      "image/png": "[encoded data removed]",
      "text/plain": [
       "<Figure size 432x288 with 1 Axes>"
      ]
     },
     "metadata": {
      "needs_background": "light"
     },
     "output_type": "display_data"
    },
    {
     "data": {
      "image/png": "[encoded data removed]",
      "text/plain": [
       "<Figure size 432x288 with 1 Axes>"
      ]
     },
     "metadata": {
      "needs_background": "light"
     },
     "output_type": "display_data"
    },
    {
     "data": {
      "image/png": "[encoded data removed]",
      "text/plain": [
       "<Figure size 432x288 with 1 Axes>"
      ]
     },
     "metadata": {
      "needs_background": "light"
     },
     "output_type": "display_data"
    },
    {
     "data": {
      "image/png": "[encoded data removed]",
      "text/plain": [
       "<Figure size 432x288 with 1 Axes>"
      ]
     },
     "metadata": {
      "needs_background": "light"
     },
     "output_type": "display_data"
    },
    {
     "data": {
      "image/png": "[encoded data removed]",
      "text/plain": [
       "<Figure size 432x288 with 1 Axes>"
      ]
     },
     "metadata": {
      "needs_background": "light"
     },
     "output_type": "display_data"
    },
    {
     "data": {
      "image/png": "[encoded data removed]",
      "text/plain": [
       "<Figure size 432x288 with 1 Axes>"
      ]
     },
     "metadata": {
      "needs_background": "light"
     },
     "output_type": "display_data"
    },
    {
     "data": {
      "image/png": "[encoded data removed]",
      "text/plain": [
       "<Figure size 432x288 with 1 Axes>"
      ]
     },
     "metadata": {
      "needs_background": "light"
     },
     "output_type": "display_data"
    },
    {
     "data": {
      "image/png": "[encoded data removed]",
      "text/plain": [
       "<Figure size 432x288 with 1 Axes>"
      ]
     },
     "metadata": {
      "needs_background": "light"
     },
     "output_type": "display_data"
    },
    {
     "data": {
      "text/plain": [
       "<Figure size 432x288 with 0 Axes>"
      ]
     },
     "metadata": {},
     "output_type": "display_data"
    }
   ],
   "source": [
    "main()"
   ]
  },
  {
   "cell_type": "code",
   "execution_count": null,
   "metadata": {},
   "outputs": [],
   "source": []
  }
 ],
 "metadata": {
  "kernelspec": {
   "display_name": "Python 3",
   "language": "python",
   "name": "python3"
  },
  "language_info": {
   "codemirror_mode": {
    "name": "ipython",
    "version": 3
   },
   "file_extension": ".py",
   "mimetype": "text/x-python",
   "name": "python",
   "nbconvert_exporter": "python",
   "pygments_lexer": "ipython3",
   "version": "3.6.9"
  }
 },
 "nbformat": 4,
 "nbformat_minor": 1
}
